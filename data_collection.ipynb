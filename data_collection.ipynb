{
 "cells": [
  {
   "cell_type": "markdown",
   "id": "a745f126",
   "metadata": {},
   "source": [
    "# Homework 3 DSCI510\n",
    "\n",
    "--- \n",
    "\n",
    " ***GITHUB LINK - https://github.com/dhand33p/USCDSCI510***\n",
    "\n",
    "I collected data regarding CO2 emissions from different countries around the world, specfically the amount of emission they disperse in total share of the world. There is total of 209 countries for the first data source and 210 from the second source. I am collecting this data by scraping the two tables from the different websites. After I collect the two datasets, I need to clean the data and selet only certain aspects of the data(specifcally name and percentage for the first url). After I clean the data I will join the two datasets using join and create a datafram and eventually save into a CSV file. \n",
    "\n",
    "---\n",
    "\n",
    "**Sources**\n",
    "\n",
    "https://www.worldometers.info/co2-emissions/co2-emissions-by-country/\n",
    "\n",
    "https://www.iqair.com/us/world-most-polluted-countries\n"
   ]
  },
  {
   "cell_type": "markdown",
   "id": "24e1da2f",
   "metadata": {},
   "source": [
    "### Most CO2 Emission Countries in percent share of world -Web Scraping\n",
    "#### Data Cleaning  - Need to parse through the string and only select Country Name and percentage of CO2 Emission in Share of World"
   ]
  },
  {
   "cell_type": "code",
   "execution_count": 28,
   "id": "b53a462b",
   "metadata": {},
   "outputs": [],
   "source": [
    "import requests\n",
    "import bs4\n",
    "import re\n",
    "import pandas as pd\n",
    "import numpy as np\n",
    "from bs4 import BeautifulSoup\n",
    "import matplotlib.pyplot as plt\n",
    "import seaborn as sns"
   ]
  },
  {
   "cell_type": "code",
   "execution_count": 21,
   "id": "a65b00e2",
   "metadata": {
    "scrolled": true
   },
   "outputs": [
    {
     "data": {
      "text/html": [
       "<div>\n",
       "<style scoped>\n",
       "    .dataframe tbody tr th:only-of-type {\n",
       "        vertical-align: middle;\n",
       "    }\n",
       "\n",
       "    .dataframe tbody tr th {\n",
       "        vertical-align: top;\n",
       "    }\n",
       "\n",
       "    .dataframe thead th {\n",
       "        text-align: right;\n",
       "    }\n",
       "</style>\n",
       "<table border=\"1\" class=\"dataframe\">\n",
       "  <thead>\n",
       "    <tr style=\"text-align: right;\">\n",
       "      <th></th>\n",
       "      <th>Country</th>\n",
       "      <th>CO2_emis_2016</th>\n",
       "    </tr>\n",
       "  </thead>\n",
       "  <tbody>\n",
       "    <tr>\n",
       "      <th>0</th>\n",
       "      <td>China</td>\n",
       "      <td>29.18</td>\n",
       "    </tr>\n",
       "    <tr>\n",
       "      <th>1</th>\n",
       "      <td>United States</td>\n",
       "      <td>14.02</td>\n",
       "    </tr>\n",
       "    <tr>\n",
       "      <th>2</th>\n",
       "      <td>India</td>\n",
       "      <td>7.09</td>\n",
       "    </tr>\n",
       "    <tr>\n",
       "      <th>3</th>\n",
       "      <td>Russia</td>\n",
       "      <td>4.65</td>\n",
       "    </tr>\n",
       "    <tr>\n",
       "      <th>4</th>\n",
       "      <td>Japan</td>\n",
       "      <td>3.47</td>\n",
       "    </tr>\n",
       "    <tr>\n",
       "      <th>...</th>\n",
       "      <td>...</td>\n",
       "      <td>...</td>\n",
       "    </tr>\n",
       "    <tr>\n",
       "      <th>204</th>\n",
       "      <td>Anguilla</td>\n",
       "      <td>0.00</td>\n",
       "    </tr>\n",
       "    <tr>\n",
       "      <th>205</th>\n",
       "      <td>Saint Helena</td>\n",
       "      <td>0.00</td>\n",
       "    </tr>\n",
       "    <tr>\n",
       "      <th>206</th>\n",
       "      <td>Saint Pierre</td>\n",
       "      <td>0.00</td>\n",
       "    </tr>\n",
       "    <tr>\n",
       "      <th>207</th>\n",
       "      <td>Faeroe Islands</td>\n",
       "      <td>0.00</td>\n",
       "    </tr>\n",
       "    <tr>\n",
       "      <th>208</th>\n",
       "      <td>Greenland</td>\n",
       "      <td>0.00</td>\n",
       "    </tr>\n",
       "  </tbody>\n",
       "</table>\n",
       "<p>209 rows × 2 columns</p>\n",
       "</div>"
      ],
      "text/plain": [
       "            Country  CO2_emis_2016\n",
       "0             China          29.18\n",
       "1     United States          14.02\n",
       "2             India           7.09\n",
       "3            Russia           4.65\n",
       "4             Japan           3.47\n",
       "..              ...            ...\n",
       "204        Anguilla           0.00\n",
       "205    Saint Helena           0.00\n",
       "206    Saint Pierre           0.00\n",
       "207  Faeroe Islands           0.00\n",
       "208       Greenland           0.00\n",
       "\n",
       "[209 rows x 2 columns]"
      ]
     },
     "execution_count": 21,
     "metadata": {},
     "output_type": "execute_result"
    }
   ],
   "source": [
    "url1 = \"https://www.worldometers.info/co2-emissions/co2-emissions-by-country/\"\n",
    "req = requests.get(url1).text\n",
    "soup = BeautifulSoup(req, \"html.parser\")\n",
    "results = soup.find('table').find_all(\"tr\") # Parsing through the table, and selecting all table row\n",
    "list_count = []\n",
    "for i in range(0, len(results)):\n",
    "    country = results[i].text\n",
    "    list_count.append(country)\n",
    "#word = list_count[1]\n",
    "dict_list = {}\n",
    "for i in range(1, len(list_count)):\n",
    "    temp = list_count[i]\n",
    "    name = temp[3:20]\n",
    "    result = ''.join([x for x in name if not x.isdigit()])\n",
    "    fin_wrd = (re.sub(r\"[^a-zA-Z]+\", ' ', result)).strip()\n",
    "    per_share = float(temp[-7:-2].replace(\" \", \"\"))\n",
    "    dict_list[fin_wrd] = per_share\n",
    "\n",
    "#len(list_count) # 210 Countries\n",
    "dict_list\n",
    "df1 = pd.DataFrame([dict_list])\n",
    "em = df1.T #switch rows and col\n",
    "new = em.reset_index()\n",
    "per_co2 = new.rename(columns={0: \"CO2_emis_2016\", \"index\" :\"Country\"})\n",
    "per_co2"
   ]
  },
  {
   "cell_type": "markdown",
   "id": "ee8c89e4",
   "metadata": {},
   "source": [
    "Current problems - need to clean and filter the data collected, only select the name and last percentage column from table"
   ]
  },
  {
   "cell_type": "markdown",
   "id": "2f20f1e3",
   "metadata": {},
   "source": [
    "### Most Polluted Countries Web Scraping\n",
    "#### Need to select country name and latest pollution percentages in respect to WHO guidelines"
   ]
  },
  {
   "cell_type": "code",
   "execution_count": 25,
   "id": "38d4579d",
   "metadata": {
    "scrolled": true
   },
   "outputs": [
    {
     "data": {
      "text/plain": [
       "Country      United States\n",
       "Poll_2021             10.3\n",
       "Name: 88, dtype: object"
      ]
     },
     "execution_count": 25,
     "metadata": {},
     "output_type": "execute_result"
    }
   ],
   "source": [
    "url2 = \"https://www.iqair.com/us/world-most-polluted-countries\"\n",
    "req2 = requests.get(url2).text\n",
    "soup1 = BeautifulSoup(req2, \"html.parser\")\n",
    "results1 = soup1.find('table').find(\"tbody\")   # Fing the tbody section \n",
    "test = results1.find_all(\"tr\")               # Select all table rows from the table \n",
    "list_cn = []\n",
    "for i in range(0, len(test)):\n",
    "    country = test[i].text\n",
    "    list_cn.append(country)\n",
    "len(list_cn) # 117 countries\n",
    "dic_poll = {}\n",
    "for i in range(1, len(list_cn)):\n",
    "    temp = list_cn[i]\n",
    "    char = ''.join([x for x in temp if not x.isdigit()])\n",
    "    country = (re.sub(r\"[^a-zA-Z]+\", ' ', char)).strip()\n",
    "    nums = re.sub(r\"[^0-9.]+\", ' ', temp).strip()\n",
    "    list_nums = nums.split()\n",
    "    #latest_num = re.findall(\"\\d+\\.\\d+\", nums)\n",
    "    if len(list_nums[1]) > 1 :\n",
    "        dic_poll[country] = float(list_nums[1])\n",
    "    elif list_nums[1] == \".\":\n",
    "        dic_poll[country] = 4.5\n",
    "        \n",
    "df1 = pd.DataFrame([dic_poll])\n",
    "pol = df1.T #switch rows and col\n",
    "new = pol.reset_index()\n",
    "per_poll = new.rename(columns={0: \"Poll_2021\", \"index\" :\"Country\"})\n",
    "per_poll.iloc[[88]]\n",
    "per_poll.loc[88,['Country']] = \"United States\"\n",
    "per_poll.iloc[88]"
   ]
  },
  {
   "cell_type": "markdown",
   "id": "dbc8f0d4",
   "metadata": {},
   "source": [
    "### Combining two dataframes into one and into CSV file - merged them based on country name"
   ]
  },
  {
   "cell_type": "code",
   "execution_count": 26,
   "id": "6772a929",
   "metadata": {
    "scrolled": true
   },
   "outputs": [
    {
     "data": {
      "text/html": [
       "<div>\n",
       "<style scoped>\n",
       "    .dataframe tbody tr th:only-of-type {\n",
       "        vertical-align: middle;\n",
       "    }\n",
       "\n",
       "    .dataframe tbody tr th {\n",
       "        vertical-align: top;\n",
       "    }\n",
       "\n",
       "    .dataframe thead th {\n",
       "        text-align: right;\n",
       "    }\n",
       "</style>\n",
       "<table border=\"1\" class=\"dataframe\">\n",
       "  <thead>\n",
       "    <tr style=\"text-align: right;\">\n",
       "      <th></th>\n",
       "      <th>Country</th>\n",
       "      <th>CO2_emis_2016</th>\n",
       "      <th>Poll_2021</th>\n",
       "    </tr>\n",
       "  </thead>\n",
       "  <tbody>\n",
       "    <tr>\n",
       "      <th>0</th>\n",
       "      <td>China</td>\n",
       "      <td>29.18</td>\n",
       "      <td>32.6</td>\n",
       "    </tr>\n",
       "    <tr>\n",
       "      <th>1</th>\n",
       "      <td>United States</td>\n",
       "      <td>14.02</td>\n",
       "      <td>10.3</td>\n",
       "    </tr>\n",
       "    <tr>\n",
       "      <th>2</th>\n",
       "      <td>India</td>\n",
       "      <td>7.09</td>\n",
       "      <td>58.1</td>\n",
       "    </tr>\n",
       "    <tr>\n",
       "      <th>3</th>\n",
       "      <td>Russia</td>\n",
       "      <td>4.65</td>\n",
       "      <td>12.3</td>\n",
       "    </tr>\n",
       "    <tr>\n",
       "      <th>4</th>\n",
       "      <td>Japan</td>\n",
       "      <td>3.47</td>\n",
       "      <td>9.1</td>\n",
       "    </tr>\n",
       "  </tbody>\n",
       "</table>\n",
       "</div>"
      ],
      "text/plain": [
       "         Country  CO2_emis_2016  Poll_2021\n",
       "0          China          29.18       32.6\n",
       "1  United States          14.02       10.3\n",
       "2          India           7.09       58.1\n",
       "3         Russia           4.65       12.3\n",
       "4          Japan           3.47        9.1"
      ]
     },
     "execution_count": 26,
     "metadata": {},
     "output_type": "execute_result"
    }
   ],
   "source": [
    "all_col = pd.merge(per_co2, per_poll, on=\"Country\")\n",
    "all_col.to_csv('co2andpoll.csv', index=False)\n",
    "all_col.head()"
   ]
  },
  {
   "cell_type": "code",
   "execution_count": 41,
   "id": "1a35e617",
   "metadata": {},
   "outputs": [],
   "source": [
    "argd = all_col.sort_values(by =  \"CO2_emis_2016\", ascending = False)\n",
    "argd = argd.head(5)"
   ]
  },
  {
   "cell_type": "code",
   "execution_count": 88,
   "id": "7203462b",
   "metadata": {},
   "outputs": [
    {
     "data": {
      "image/png": "[encoded data removed]",
      "text/plain": [
       "<Figure size 432x288 with 1 Axes>"
      ]
     },
     "metadata": {
      "needs_background": "light"
     },
     "output_type": "display_data"
    }
   ],
   "source": [
    "barWidth = .5\n",
    "\n",
    "p1 = plt.bar(argd[\"Country\"], argd[\"Poll_2021\"], width=barWidth, color='red')\n",
    "p2 = plt.bar(argd[\"Country\"], argd[\"CO2_emis_2016\"], width=barWidth, color='yellow')\n",
    "\n",
    "#plt.ylabel('')\n",
    "plt.xlabel('Countries in top 5 CO2 Emissions')\n",
    "plt.title('Top 5 Countries in CO2 Emissions and their Pollution Score')\n",
    "plt.legend((p1[0], p2[0]), ('% Poll_Score', '% CO2_Emi'))\n",
    "\n",
    "\n",
    "plt.bar_label(p1)\n",
    "plt.bar_label(p2, label_type='center')   \n",
    "    \n",
    "#display chart\n",
    "plt.show()"
   ]
  }
 ],
 "metadata": {
  "kernelspec": {
   "display_name": "Python 3",
   "language": "python",
   "name": "python3"
  },
  "language_info": {
   "codemirror_mode": {
    "name": "ipython",
    "version": 3
   },
   "file_extension": ".py",
   "mimetype": "text/x-python",
   "name": "python",
   "nbconvert_exporter": "python",
   "pygments_lexer": "ipython3",
   "version": "3.9.12"
  }
 },
 "nbformat": 4,
 "nbformat_minor": 5
}
