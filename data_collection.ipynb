{
 "cells": [
  {
   "cell_type": "markdown",
   "id": "a745f126",
   "metadata": {},
   "source": [
    "# Question 1\n",
    "What data did you collect? How many different sources did you use? How many data samples did you collect? (Similar to Homework 2 Q2, but now you should answer based on your collection progress, rather than just your plan).\n",
    "\n",
    "\n",
    "https://www.worldometers.info/co2-emissions/co2-emissions-by-country/\n",
    "\n",
    "https://www.iqair.com/us/world-most-polluted-countries\n",
    "\n",
    "\n",
    "\n",
    "For\n"
   ]
  },
  {
   "cell_type": "code",
   "execution_count": 111,
   "id": "a65b00e2",
   "metadata": {},
   "outputs": [
    {
     "data": {
      "text/plain": [
       "' Brazil 462,994,9'"
      ]
     },
     "execution_count": 111,
     "metadata": {},
     "output_type": "execute_result"
    }
   ],
   "source": [
    "import requests\n",
    "import bs4\n",
    "from bs4 import BeautifulSoup\n",
    "\n",
    "\n",
    "url1 = \"https://www.worldometers.info/co2-emissions/co2-emissions-by-country/\"\n",
    "req = requests.get(url1).text\n",
    "soup = BeautifulSoup(req, \"html.parser\")\n",
    "results = soup.find('table').find_all(\"tr\")\n",
    "list_count = []\n",
    "for i in range(0, len(results)):\n",
    "    country = results[i].text\n",
    "    list_count.append(country)\n",
    "word = list_count[12]\n",
    "per_share = float(word[-7:-2].replace(\" \", \"\"))\n",
    "per_share\n",
    "word[3:]\n",
    "len(list_count)\n",
    "word[3:20]"
   ]
  },
  {
   "cell_type": "code",
   "execution_count": 103,
   "id": "38d4579d",
   "metadata": {},
   "outputs": [
    {
     "data": {
      "text/plain": [
       "209"
      ]
     },
     "execution_count": 103,
     "metadata": {},
     "output_type": "execute_result"
    }
   ],
   "source": [
    "url2 = \"https://www.iqair.com/us/world-most-polluted-countries\"\n",
    "req2 = requests.get(url2).text\n",
    "soup1 = BeautifulSoup(req, \"html.parser\")\n",
    "results1 = soup.find('table').find(\"tbody\")\n",
    "test = results1.find_all(\"tr\")\n",
    "list_cn = []\n",
    "for i in range(0, len(test)):\n",
    "    country = test[i].text\n",
    "    list_cn.append(country)\n",
    "len(list_cn)"
   ]
  },
  {
   "cell_type": "code",
   "execution_count": 77,
   "id": "abe0cd35",
   "metadata": {},
   "outputs": [
    {
     "ename": "AttributeError",
     "evalue": "'ExistingCountries' object has no attribute 'name'",
     "output_type": "error",
     "traceback": [
      "\u001b[0;31m---------------------------------------------------------------------------\u001b[0m",
      "\u001b[0;31mAttributeError\u001b[0m                            Traceback (most recent call last)",
      "Input \u001b[0;32mIn [77]\u001b[0m, in \u001b[0;36m<cell line: 2>\u001b[0;34m()\u001b[0m\n\u001b[1;32m      1\u001b[0m \u001b[38;5;28;01mimport\u001b[39;00m \u001b[38;5;21;01mpycountry\u001b[39;00m\n\u001b[0;32m----> 2\u001b[0m \u001b[38;5;28mlist\u001b[39m(\u001b[43mpycountry\u001b[49m\u001b[38;5;241;43m.\u001b[39;49m\u001b[43mcountries\u001b[49m\u001b[38;5;241;43m.\u001b[39;49m\u001b[43mname\u001b[49m)\n",
      "\u001b[0;31mAttributeError\u001b[0m: 'ExistingCountries' object has no attribute 'name'"
     ]
    }
   ],
   "source": [
    "import pycountry\n",
    "list(pycountry.countries)"
   ]
  }
 ],
 "metadata": {
  "kernelspec": {
   "display_name": "Python 3",
   "language": "python",
   "name": "python3"
  },
  "language_info": {
   "codemirror_mode": {
    "name": "ipython",
    "version": 3
   },
   "file_extension": ".py",
   "mimetype": "text/x-python",
   "name": "python",
   "nbconvert_exporter": "python",
   "pygments_lexer": "ipython3",
   "version": "3.9.12"
  }
 },
 "nbformat": 4,
 "nbformat_minor": 5
}
